{
 "cells": [
  {
   "cell_type": "code",
   "execution_count": 3,
   "outputs": [],
   "source": [
    "from data.image_with_text_genrator import ImageWithTextGenerator"
   ],
   "metadata": {
    "collapsed": false,
    "pycharm": {
     "name": "#%%\n"
    }
   }
  },
  {
   "cell_type": "code",
   "execution_count": 7,
   "outputs": [],
   "source": [
    "with open(r\"C:\\Users\\dawid\\OneDrive\\Pulpit\\HandwrittenTextGenerator\\data\\1000_words.txt\", \"r\") as file:\n",
    "    data = file.read().splitlines()"
   ],
   "metadata": {
    "collapsed": false,
    "pycharm": {
     "name": "#%%\n"
    }
   }
  },
  {
   "cell_type": "code",
   "execution_count": 12,
   "outputs": [],
   "source": [
    "generator1 = ImageWithTextGenerator(160, 160, r\"C:\\Users\\dawid\\OneDrive\\Pulpit\\HandwrittenTextGenerator\\data\\fonts\\SweetyPetty.ttf\", 60)\n",
    "generator2 = ImageWithTextGenerator(160, 160, r\"C:\\Users\\dawid\\OneDrive\\Pulpit\\HandwrittenTextGenerator\\data\\fonts\\Highvalley.ttf\", 60)\n",
    "\n",
    "for word in data:\n",
    "    generator1.generate_image(word, rf\"C:\\Users\\dawid\\OneDrive\\Pulpit\\HandwrittenTextGenerator\\data\\1\\{word}.jpg\")\n",
    "    generator2.generate_image(word, rf\"C:\\Users\\dawid\\OneDrive\\Pulpit\\HandwrittenTextGenerator\\data\\2\\{word}.jpg\")"
   ],
   "metadata": {
    "collapsed": false,
    "pycharm": {
     "name": "#%%\n"
    }
   }
  },
  {
   "cell_type": "code",
   "execution_count": null,
   "outputs": [],
   "source": [],
   "metadata": {
    "collapsed": false,
    "pycharm": {
     "name": "#%%\n"
    }
   }
  }
 ],
 "metadata": {
  "kernelspec": {
   "display_name": "Python 3",
   "language": "python",
   "name": "python3"
  },
  "language_info": {
   "codemirror_mode": {
    "name": "ipython",
    "version": 2
   },
   "file_extension": ".py",
   "mimetype": "text/x-python",
   "name": "python",
   "nbconvert_exporter": "python",
   "pygments_lexer": "ipython2",
   "version": "2.7.6"
  }
 },
 "nbformat": 4,
 "nbformat_minor": 0
}